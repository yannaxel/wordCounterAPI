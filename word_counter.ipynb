{
 "cells": [
  {
   "cell_type": "markdown",
   "metadata": {},
   "source": [
    "# Word Counter"
   ]
  },
  {
   "cell_type": "markdown",
   "metadata": {},
   "source": [
    "## convention des droits de l'homme"
   ]
  },
  {
   "cell_type": "code",
   "execution_count": 318,
   "metadata": {},
   "outputs": [],
   "source": [
    "import os"
   ]
  },
  {
   "cell_type": "code",
   "execution_count": 319,
   "metadata": {},
   "outputs": [],
   "source": [
    "import pandas as pd"
   ]
  },
  {
   "cell_type": "code",
   "execution_count": 320,
   "metadata": {},
   "outputs": [],
   "source": [
    "with open('DUDDH.txt', encoding='utf-8') as f:\n",
    "    contents = f.read()"
   ]
  },
  {
   "cell_type": "code",
   "execution_count": 321,
   "metadata": {},
   "outputs": [],
   "source": [
    "import re\n",
    "contents = contents.lower()\n",
    "contents = re.sub(r'\\W+', ' ', contents)\n",
    "# contents"
   ]
  },
  {
   "cell_type": "code",
   "execution_count": 322,
   "metadata": {},
   "outputs": [
    {
     "data": {
      "text/plain": [
       "'préambule considérant que reconnaissance dignité inhérente tous membres famille humaine leurs droits égaux inaliénables constitue fondement liberté justice paix dans monde considérant que méconnaissance mépris droits homme ont conduit actes barbarie qui révoltent conscience humanité que avènement monde où êtres humains seront libres parler croire libérés terreur misère été proclamé comme plus haute aspiration homme considérant est essentiel que droits homme soient protégés régime droit pour que homme soit pas contraint suprême recours révolte contre tyrannie oppression considérant est essentiel encourager développement relations amicales entre nations considérant que dans charte peuples nations unies ont proclamé nouveau leur foi dans droits fondamentaux homme dans dignité valeur personne humaine dans égalité droits hommes femmes ils se sont déclarés résolus favoriser progrès social instaurer meilleures conditions vie dans liberté plus grande considérant que etats membres se sont engagés assurer coopération avec organisation nations unies respect universel effectif droits homme libertés fondamentales considérant conception commune ces droits libertés est plus haute importance pour remplir pleinement cet engagement assemblée générale proclame présente déclaration universelle droits homme comme idéal commun atteindre tous peuples toutes nations afin que tous individus tous organes société ayant cette déclaration constamment esprit s efforcent enseignement éducation développer respect ces droits libertés assurer mesures progressives ordre national international reconnaissance application universelles effectives tant parmi populations etats membres eux mêmes que parmi celles territoires placés sous leur juridiction article premier tous êtres humains naissent libres égaux dignité droits ils sont doués raison conscience doivent agir uns envers autres dans esprit fraternité article chacun peut se prévaloir tous droits toutes libertés proclamés dans présente déclaration sans distinction aucune notamment race couleur sexe langue religion opinion politique toute autre opinion origine nationale sociale fortune naissance toute autre situation plus sera fait aucune distinction fondée sur statut politique juridique international pays territoire dont personne est ressortissante que ce pays territoire soit indépendant sous tutelle non autonome soumis limitation quelconque souveraineté article tout individu droit vie liberté sûreté personne article nul sera tenu esclavage ni servitude esclavage traite esclaves sont interdits sous toutes leurs formes article nul sera soumis torture ni peines traitements cruels inhumains dégradants article chacun droit reconnaissance tous lieux personnalité juridique article tous sont égaux devant loi ont droit sans distinction égale protection loi tous ont droit protection égale contre toute discrimination qui violerait présente déclaration contre toute provocation telle discrimination article toute personne droit recours effectif devant juridictions nationales compétentes contre actes violant droits fondamentaux qui lui sont reconnus constitution loi article  nul peut être arbitrairement arrêté détenu exilé article toute personne droit pleine égalité ce que cause soit entendue équitablement publiquement tribunal indépendant impartial qui décidera soit droits obligations soit bien fondé toute accusation matière pénale dirigée contre article toute personne accusée acte délictueux est présumée innocente jusqu ce que culpabilité ait été légalement établie cours procès public où toutes garanties nécessaires défense lui auront été assurées nul sera condamné pour actions omissions qui moment où elles ont été commises constituaient pas acte délictueux après droit national international même sera infligé aucune peine plus forte que celle qui était applicable moment où acte délictueux été commis article nul sera objet immixtions arbitraires dans vie privée famille domicile correspondance ni atteintes honneur réputation toute personne droit protection loi contre telles immixtions telles atteintes article toute personne droit circuler librement choisir résidence intérieur etat toute personne droit quitter tout pays y compris sien revenir dans pays article devant persécution toute personne droit chercher asile bénéficier asile autres pays ce droit peut être invoqué dans cas poursuites réellement fondées sur crime droit commun sur agissements contraires buts principes nations unies article tout individu droit nationalité nul peut être arbitrairement privé nationalité ni droit changer nationalité article partir âge nubile homme femme sans aucune restriction quant race nationalité religion ont droit se marier fonder famille ils ont droits égaux regard mariage durant mariage lors dissolution mariage peut être conclu avec libre plein consentement futurs époux famille est élément naturel fondamental société droit protection société etat article toute personne aussi bien seule collectivité droit propriété nul peut être arbitrairement privé propriété article toute personne droit liberté pensée conscience religion ce droit implique liberté changer religion conviction ainsi que liberté manifester religion conviction seule commun tant public privé enseignement pratiques culte accomplissement rites article  tout individu droit liberté opinion expression ce qui implique droit pas être inquiété pour opinions celui chercher recevoir répandre sans considérations frontières informations idées quelque moyen expression que ce soit article toute personne droit liberté réunion association pacifiques nul peut être obligé faire partie association article toute personne droit prendre part direction affaires publiques pays soit directement soit intermédiaire représentants librement choisis toute personne droit accéder dans conditions égalité fonctions publiques pays volonté peuple est fondement autorité pouvoirs publics cette volonté doit s exprimer élections honnêtes qui doivent avoir lieu périodiquement suffrage universel égal vote secret suivant procédure équivalente assurant liberté vote article toute personne tant que membre société droit sécurité sociale est fondée obtenir satisfaction droits économiques sociaux culturels indispensables dignité libre développement personnalité grâce effort national coopération internationale compte tenu organisation ressources chaque pays article toute personne droit travail libre choix travail conditions équitables satisfaisantes travail protection contre chômage tous ont droit sans aucune discrimination salaire égal pour travail égal quiconque travaille droit rémunération équitable satisfaisante lui assurant ainsi famille existence conforme dignité humaine complétée s y lieu tous autres moyens protection sociale toute personne droit fonder avec autres syndicats s affilier syndicats pour défense intérêts article toute personne droit repos loisirs notamment limitation raisonnable durée travail congés payés périodiques article toute personne droit niveau vie suffisant pour assurer santé bien être ceux famille notamment pour alimentation habillement logement soins médicaux ainsi que pour services sociaux nécessaires droit sécurité cas chômage maladie invalidité veuvage vieillesse dans autres cas perte moyens subsistance suite circonstances indépendantes volonté maternité enfance ont droit aide assistance spéciales tous enfants ils soient nés dans mariage hors mariage jouissent même protection sociale article toute personne droit éducation éducation doit être gratuite moins ce qui concerne enseignement élémentaire fondamental enseignement élémentaire est obligatoire enseignement technique professionnel doit être généralisé accès étu supérieures doit être ouvert pleine égalité tous fonction leur mérite éducation doit viser plein épanouissement personnalité humaine renforcement respect droits homme libertés fondamentales doit favoriser compréhension tolérance amitié entre toutes nations tous groupes raciaux religieux ainsi que développement activités nations unies pour maintien paix parents ont priorité droit choisir genre éducation donner leurs enfants article toute personne droit prendre part librement vie culturelle communauté jouir arts participer progrès scientifique bienfaits qui résultent chacun droit protection intérêts moraux matériels découlant toute production scientifique littéraire artistique dont est auteur article toute personne droit ce que règne sur plan social sur plan international ordre tel que droits libertés énoncés dans présente déclaration puissent y trouver plein effet article  individu devoirs envers communauté dans laquelle seule libre plein développement personnalité est possible dans exercice droits dans jouissance libertés chacun n est soumis limitations établies loi exclusivement vue assurer reconnaissance respect droits libertés autrui afin satisfaire justes exigences morale ordre public bien être général dans société démocratique ces droits libertés pourront aucun cas s exercer contrairement buts principes nations unies article aucune disposition présente déclaration peut être interprétée comme impliquant pour état groupement individu droit quelconque se livrer activité accomplir acte visant truction droits libertés qui y sont énoncés '"
      ]
     },
     "execution_count": 322,
     "metadata": {},
     "output_type": "execute_result"
    }
   ],
   "source": [
    "remove_characters = [\" aux \", \" par \",\" ne \", \" l \", \" le \", \" la \", \" les \", \"des\", \" de \",\" du \", \" d \", \" qu \", \" une \", \" un \", \" il \", \" elle \", \" à \", \" au \", \" a \", \" et \", \" ou \", \" en \", \" sa \", \" son \", \" ses \"]\n",
    "regex = []\n",
    "for character in remove_characters:\n",
    "    contents = contents.replace(character, \" \")\n",
    "    contents = contents.replace(\"  \", \" \")\n",
    "\n",
    "for numb in range(10):\n",
    "    contents = contents.replace(str(numb), \" \")\n",
    "    contents = contents.replace(\"  \", \" \")\n",
    "\n",
    "contents = contents.lower()\n",
    "contents"
   ]
  },
  {
   "cell_type": "code",
   "execution_count": 323,
   "metadata": {},
   "outputs": [
    {
     "data": {
      "text/plain": [
       "0            préambule\n",
       "1          considérant\n",
       "2                  que\n",
       "3       reconnaissance\n",
       "4              dignité\n",
       "             ...      \n",
       "1214               qui\n",
       "1215                 y\n",
       "1216              sont\n",
       "1217           énoncés\n",
       "1218                  \n",
       "Length: 1219, dtype: object"
      ]
     },
     "execution_count": 323,
     "metadata": {},
     "output_type": "execute_result"
    }
   ],
   "source": [
    "text = pd.Series(contents.split(' '))\n",
    "text"
   ]
  },
  {
   "cell_type": "code",
   "execution_count": 324,
   "metadata": {},
   "outputs": [
    {
     "data": {
      "text/plain": [
       "droit              41\n",
       "article            30\n",
       "toute              26\n",
       "personne           23\n",
       "droits             21\n",
       "                   ..\n",
       "développer          1\n",
       "accomplissement     1\n",
       "suffisant           1\n",
       "inhérente           1\n",
       "réellement          1\n",
       "Length: 570, dtype: int64"
      ]
     },
     "execution_count": 324,
     "metadata": {},
     "output_type": "execute_result"
    }
   ],
   "source": [
    "word_counter = text.value_counts()\n",
    "word_counter\n",
    "# word_counter.to_csv('word_counter.csv', index=True)"
   ]
  },
  {
   "cell_type": "code",
   "execution_count": 325,
   "metadata": {},
   "outputs": [
    {
     "data": {
      "text/plain": [
       "<AxesSubplot:>"
      ]
     },
     "execution_count": 325,
     "metadata": {},
     "output_type": "execute_result"
    },
    {
     "data": {
      "image/png": "[encoded data removed]",
      "text/plain": [
       "<Figure size 432x288 with 1 Axes>"
      ]
     },
     "metadata": {
      "needs_background": "light"
     },
     "output_type": "display_data"
    }
   ],
   "source": [
    "word_counter[word_counter>5].plot.bar()"
   ]
  },
  {
   "cell_type": "code",
   "execution_count": 326,
   "metadata": {},
   "outputs": [
    {
     "data": {
      "text/plain": [
       "droit              41\n",
       "article            30\n",
       "toute              26\n",
       "personne           23\n",
       "droits             21\n",
       "                   ..\n",
       "développer          1\n",
       "accomplissement     1\n",
       "suffisant           1\n",
       "inhérente           1\n",
       "réellement          1\n",
       "Length: 570, dtype: int64"
      ]
     },
     "execution_count": 326,
     "metadata": {},
     "output_type": "execute_result"
    }
   ],
   "source": [
    "last_counter = -99999\n",
    "classement = {}\n",
    "i = -1\n",
    "j = -1\n",
    "for value in word_counter:\n",
    "    i += 1\n",
    "    if last_counter != value :\n",
    "        last_counter = value\n",
    "        j += 1\n",
    "    classement[i] = j\n",
    "\n",
    "classement\n",
    "\n",
    "# word_counter[\"classement\"] = classement\n",
    "word_counter"
   ]
  },
  {
   "cell_type": "code",
   "execution_count": 327,
   "metadata": {},
   "outputs": [
    {
     "data": {
      "text/html": [
       "<div>\n",
       "<style scoped>\n",
       "    .dataframe tbody tr th:only-of-type {\n",
       "        vertical-align: middle;\n",
       "    }\n",
       "\n",
       "    .dataframe tbody tr th {\n",
       "        vertical-align: top;\n",
       "    }\n",
       "\n",
       "    .dataframe thead th {\n",
       "        text-align: right;\n",
       "    }\n",
       "</style>\n",
       "<table border=\"1\" class=\"dataframe\">\n",
       "  <thead>\n",
       "    <tr style=\"text-align: right;\">\n",
       "      <th></th>\n",
       "      <th>count</th>\n",
       "      <th>classement</th>\n",
       "    </tr>\n",
       "  </thead>\n",
       "  <tbody>\n",
       "    <tr>\n",
       "      <th>droit</th>\n",
       "      <td>41</td>\n",
       "      <td>0</td>\n",
       "    </tr>\n",
       "    <tr>\n",
       "      <th>article</th>\n",
       "      <td>30</td>\n",
       "      <td>1</td>\n",
       "    </tr>\n",
       "    <tr>\n",
       "      <th>toute</th>\n",
       "      <td>26</td>\n",
       "      <td>2</td>\n",
       "    </tr>\n",
       "    <tr>\n",
       "      <th>personne</th>\n",
       "      <td>23</td>\n",
       "      <td>3</td>\n",
       "    </tr>\n",
       "    <tr>\n",
       "      <th>droits</th>\n",
       "      <td>21</td>\n",
       "      <td>4</td>\n",
       "    </tr>\n",
       "    <tr>\n",
       "      <th>...</th>\n",
       "      <td>...</td>\n",
       "      <td>...</td>\n",
       "    </tr>\n",
       "    <tr>\n",
       "      <th>développer</th>\n",
       "      <td>1</td>\n",
       "      <td>565</td>\n",
       "    </tr>\n",
       "    <tr>\n",
       "      <th>accomplissement</th>\n",
       "      <td>1</td>\n",
       "      <td>566</td>\n",
       "    </tr>\n",
       "    <tr>\n",
       "      <th>suffisant</th>\n",
       "      <td>1</td>\n",
       "      <td>567</td>\n",
       "    </tr>\n",
       "    <tr>\n",
       "      <th>inhérente</th>\n",
       "      <td>1</td>\n",
       "      <td>568</td>\n",
       "    </tr>\n",
       "    <tr>\n",
       "      <th>réellement</th>\n",
       "      <td>1</td>\n",
       "      <td>569</td>\n",
       "    </tr>\n",
       "  </tbody>\n",
       "</table>\n",
       "<p>570 rows × 2 columns</p>\n",
       "</div>"
      ],
      "text/plain": [
       "                 count  classement\n",
       "droit               41           0\n",
       "article             30           1\n",
       "toute               26           2\n",
       "personne            23           3\n",
       "droits              21           4\n",
       "...                ...         ...\n",
       "développer           1         565\n",
       "accomplissement      1         566\n",
       "suffisant            1         567\n",
       "inhérente            1         568\n",
       "réellement           1         569\n",
       "\n",
       "[570 rows x 2 columns]"
      ]
     },
     "execution_count": 327,
     "metadata": {},
     "output_type": "execute_result"
    }
   ],
   "source": [
    "newtab = pd.DataFrame(text.value_counts(),columns={'count'})\n",
    "newtab[\"classement\"] = classement\n",
    "newtab"
   ]
  },
  {
   "cell_type": "markdown",
   "metadata": {},
   "source": [
    "word_counter.plot.bar()"
   ]
  }
 ],
 "metadata": {
  "interpreter": {
   "hash": "e4152fc55637a2f02741275b62aa99d3528e817d75779cb88320532a4cdd2304"
  },
  "kernelspec": {
   "display_name": "Python 3.8.8 64-bit ('base': conda)",
   "name": "python3"
  },
  "language_info": {
   "codemirror_mode": {
    "name": "ipython",
    "version": 3
   },
   "file_extension": ".py",
   "mimetype": "text/x-python",
   "name": "python",
   "nbconvert_exporter": "python",
   "pygments_lexer": "ipython3",
   "version": "3.8.8"
  },
  "orig_nbformat": 4
 },
 "nbformat": 4,
 "nbformat_minor": 2
}
